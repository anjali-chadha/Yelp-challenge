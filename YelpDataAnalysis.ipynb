{
 "cells": [
  {
   "cell_type": "markdown",
   "metadata": {},
   "source": [
    "## Dataset: Yelp review data\n",
    "\n",
    "Download the training_data.json file, a collection of 40,000 json-encoded Yelp reviews we sampled from the [Yelp Dataset Challenge](https://www.yelp.com/dataset_challenge).\n",
    "\n",
    "Each line corresponds to a review on a particular business. The label (class) information of each review is in the \"label\" field. It is **either \"Food-relevant\" or \"Food-irrelevant\"**."
   ]
  },
  {
   "cell_type": "code",
   "execution_count": 6,
   "metadata": {
    "collapsed": true
   },
   "outputs": [],
   "source": [
    "# Using jsonlines library. Data Format: one valid json per line\n",
    "import jsonlines\n",
    "import pandas as pd\n",
    "from sklearn.feature_extraction.text import CountVectorizer\n",
    "from sklearn.ensemble import RandomForestClassifier\n",
    "import numpy as np"
   ]
  },
  {
   "cell_type": "code",
   "execution_count": 2,
   "metadata": {
    "collapsed": true
   },
   "outputs": [],
   "source": [
    "# Read the training_data file\n",
    "review_list = []\n",
    "label_list = []\n",
    "with jsonlines.open('training_data.json') as reader:\n",
    "    for json_obj in reader:\n",
    "        review_list.append(json_obj[\"text\"])\n",
    "        label_list.append(json_obj[\"label\"])\n",
    "\n",
    "review_df = pd.DataFrame({'text': review_list, \n",
    "                         'label': label_list})"
   ]
  },
  {
   "cell_type": "code",
   "execution_count": 3,
   "metadata": {
    "collapsed": false
   },
   "outputs": [
    {
     "data": {
      "text/html": [
       "<div>\n",
       "<style>\n",
       "    .dataframe thead tr:only-child th {\n",
       "        text-align: right;\n",
       "    }\n",
       "\n",
       "    .dataframe thead th {\n",
       "        text-align: left;\n",
       "    }\n",
       "\n",
       "    .dataframe tbody tr th {\n",
       "        vertical-align: top;\n",
       "    }\n",
       "</style>\n",
       "<table border=\"1\" class=\"dataframe\">\n",
       "  <thead>\n",
       "    <tr style=\"text-align: right;\">\n",
       "      <th></th>\n",
       "      <th>label</th>\n",
       "      <th>text</th>\n",
       "    </tr>\n",
       "  </thead>\n",
       "  <tbody>\n",
       "    <tr>\n",
       "      <th>0</th>\n",
       "      <td>Food-irrelevant</td>\n",
       "      <td>dr. goldberg offers everything i look for in a...</td>\n",
       "    </tr>\n",
       "    <tr>\n",
       "      <th>1</th>\n",
       "      <td>Food-irrelevant</td>\n",
       "      <td>Unfortunately, the frustration of being Dr. Go...</td>\n",
       "    </tr>\n",
       "    <tr>\n",
       "      <th>2</th>\n",
       "      <td>Food-irrelevant</td>\n",
       "      <td>Dr. Goldberg has been my doctor for years and ...</td>\n",
       "    </tr>\n",
       "    <tr>\n",
       "      <th>3</th>\n",
       "      <td>Food-irrelevant</td>\n",
       "      <td>Been going to Dr. Goldberg for over 10 years. ...</td>\n",
       "    </tr>\n",
       "    <tr>\n",
       "      <th>4</th>\n",
       "      <td>Food-irrelevant</td>\n",
       "      <td>Got a letter in the mail last week that said D...</td>\n",
       "    </tr>\n",
       "    <tr>\n",
       "      <th>5</th>\n",
       "      <td>Food-irrelevant</td>\n",
       "      <td>I don't know what Dr. Goldberg was like before...</td>\n",
       "    </tr>\n",
       "    <tr>\n",
       "      <th>6</th>\n",
       "      <td>Food-irrelevant</td>\n",
       "      <td>Top notch doctor in a top notch practice. Can'...</td>\n",
       "    </tr>\n",
       "    <tr>\n",
       "      <th>7</th>\n",
       "      <td>Food-irrelevant</td>\n",
       "      <td>Dr. Eric Goldberg is a fantastic doctor who ha...</td>\n",
       "    </tr>\n",
       "    <tr>\n",
       "      <th>8</th>\n",
       "      <td>Food-relevant</td>\n",
       "      <td>Pretty good dinner with a nice selection of fo...</td>\n",
       "    </tr>\n",
       "    <tr>\n",
       "      <th>9</th>\n",
       "      <td>Food-relevant</td>\n",
       "      <td>Good truck stop dining at the right price. We ...</td>\n",
       "    </tr>\n",
       "  </tbody>\n",
       "</table>\n",
       "</div>"
      ],
      "text/plain": [
       "             label                                               text\n",
       "0  Food-irrelevant  dr. goldberg offers everything i look for in a...\n",
       "1  Food-irrelevant  Unfortunately, the frustration of being Dr. Go...\n",
       "2  Food-irrelevant  Dr. Goldberg has been my doctor for years and ...\n",
       "3  Food-irrelevant  Been going to Dr. Goldberg for over 10 years. ...\n",
       "4  Food-irrelevant  Got a letter in the mail last week that said D...\n",
       "5  Food-irrelevant  I don't know what Dr. Goldberg was like before...\n",
       "6  Food-irrelevant  Top notch doctor in a top notch practice. Can'...\n",
       "7  Food-irrelevant  Dr. Eric Goldberg is a fantastic doctor who ha...\n",
       "8    Food-relevant  Pretty good dinner with a nice selection of fo...\n",
       "9    Food-relevant  Good truck stop dining at the right price. We ..."
      ]
     },
     "execution_count": 3,
     "metadata": {},
     "output_type": "execute_result"
    }
   ],
   "source": [
    "review_df.head(10)"
   ]
  },
  {
   "cell_type": "code",
   "execution_count": 4,
   "metadata": {
    "collapsed": false
   },
   "outputs": [
    {
     "data": {
      "text/plain": [
       "unicode"
      ]
     },
     "execution_count": 4,
     "metadata": {},
     "output_type": "execute_result"
    }
   ],
   "source": [
    "type(review_df['label'][0])"
   ]
  },
  {
   "cell_type": "code",
   "execution_count": 5,
   "metadata": {
    "collapsed": false
   },
   "outputs": [
    {
     "data": {
      "text/html": [
       "<div>\n",
       "<style>\n",
       "    .dataframe thead tr:only-child th {\n",
       "        text-align: right;\n",
       "    }\n",
       "\n",
       "    .dataframe thead th {\n",
       "        text-align: left;\n",
       "    }\n",
       "\n",
       "    .dataframe tbody tr th {\n",
       "        vertical-align: top;\n",
       "    }\n",
       "</style>\n",
       "<table border=\"1\" class=\"dataframe\">\n",
       "  <thead>\n",
       "    <tr style=\"text-align: right;\">\n",
       "      <th></th>\n",
       "      <th>label</th>\n",
       "      <th>text</th>\n",
       "      <th>isFoodRelevant</th>\n",
       "    </tr>\n",
       "  </thead>\n",
       "  <tbody>\n",
       "    <tr>\n",
       "      <th>0</th>\n",
       "      <td>Food-irrelevant</td>\n",
       "      <td>dr. goldberg offers everything i look for in a...</td>\n",
       "      <td>0</td>\n",
       "    </tr>\n",
       "    <tr>\n",
       "      <th>1</th>\n",
       "      <td>Food-irrelevant</td>\n",
       "      <td>Unfortunately, the frustration of being Dr. Go...</td>\n",
       "      <td>0</td>\n",
       "    </tr>\n",
       "    <tr>\n",
       "      <th>2</th>\n",
       "      <td>Food-irrelevant</td>\n",
       "      <td>Dr. Goldberg has been my doctor for years and ...</td>\n",
       "      <td>0</td>\n",
       "    </tr>\n",
       "    <tr>\n",
       "      <th>3</th>\n",
       "      <td>Food-irrelevant</td>\n",
       "      <td>Been going to Dr. Goldberg for over 10 years. ...</td>\n",
       "      <td>0</td>\n",
       "    </tr>\n",
       "    <tr>\n",
       "      <th>4</th>\n",
       "      <td>Food-irrelevant</td>\n",
       "      <td>Got a letter in the mail last week that said D...</td>\n",
       "      <td>0</td>\n",
       "    </tr>\n",
       "    <tr>\n",
       "      <th>5</th>\n",
       "      <td>Food-irrelevant</td>\n",
       "      <td>I don't know what Dr. Goldberg was like before...</td>\n",
       "      <td>0</td>\n",
       "    </tr>\n",
       "    <tr>\n",
       "      <th>6</th>\n",
       "      <td>Food-irrelevant</td>\n",
       "      <td>Top notch doctor in a top notch practice. Can'...</td>\n",
       "      <td>0</td>\n",
       "    </tr>\n",
       "    <tr>\n",
       "      <th>7</th>\n",
       "      <td>Food-irrelevant</td>\n",
       "      <td>Dr. Eric Goldberg is a fantastic doctor who ha...</td>\n",
       "      <td>0</td>\n",
       "    </tr>\n",
       "    <tr>\n",
       "      <th>8</th>\n",
       "      <td>Food-relevant</td>\n",
       "      <td>Pretty good dinner with a nice selection of fo...</td>\n",
       "      <td>1</td>\n",
       "    </tr>\n",
       "    <tr>\n",
       "      <th>9</th>\n",
       "      <td>Food-relevant</td>\n",
       "      <td>Good truck stop dining at the right price. We ...</td>\n",
       "      <td>1</td>\n",
       "    </tr>\n",
       "  </tbody>\n",
       "</table>\n",
       "</div>"
      ],
      "text/plain": [
       "             label                                               text  \\\n",
       "0  Food-irrelevant  dr. goldberg offers everything i look for in a...   \n",
       "1  Food-irrelevant  Unfortunately, the frustration of being Dr. Go...   \n",
       "2  Food-irrelevant  Dr. Goldberg has been my doctor for years and ...   \n",
       "3  Food-irrelevant  Been going to Dr. Goldberg for over 10 years. ...   \n",
       "4  Food-irrelevant  Got a letter in the mail last week that said D...   \n",
       "5  Food-irrelevant  I don't know what Dr. Goldberg was like before...   \n",
       "6  Food-irrelevant  Top notch doctor in a top notch practice. Can'...   \n",
       "7  Food-irrelevant  Dr. Eric Goldberg is a fantastic doctor who ha...   \n",
       "8    Food-relevant  Pretty good dinner with a nice selection of fo...   \n",
       "9    Food-relevant  Good truck stop dining at the right price. We ...   \n",
       "\n",
       "   isFoodRelevant  \n",
       "0               0  \n",
       "1               0  \n",
       "2               0  \n",
       "3               0  \n",
       "4               0  \n",
       "5               0  \n",
       "6               0  \n",
       "7               0  \n",
       "8               1  \n",
       "9               1  "
      ]
     },
     "execution_count": 5,
     "metadata": {},
     "output_type": "execute_result"
    }
   ],
   "source": [
    "review_df['isFoodRelevant'] = review_df['label'].apply(lambda label: 1 if label == u'Food-relevant' else 0)\n",
    "review_df.head(10)"
   ]
  },
  {
   "cell_type": "code",
   "execution_count": 8,
   "metadata": {
    "collapsed": true
   },
   "outputs": [],
   "source": [
    "import string\n",
    "from nltk.stem.porter import *\n",
    "import re\n",
    "\n",
    "stemmer = PorterStemmer()\n",
    "# Returns a review after stemming, casefolding, removing punctuation\n",
    "def preprocess_text(review):\n",
    "    # Replaces every punctuation with a whitespace\n",
    "    #replace_punctuation = string.maketrans(string.punctuation, ' '*len(string.punctuation))\n",
    "    word_list = []\n",
    "    \n",
    "    #This for loop turns the text into lower case, splits the text on punctuations and white spaces\n",
    "    # followed by applying Porter stemmer on each word.\n",
    "    text = re.split('\\W+', review.lower())\n",
    "    for word in text:\n",
    "        word = stemmer.stem(word)\n",
    "        word_list.append(word)\n",
    "    return ' '.join(word_list)"
   ]
  },
  {
   "cell_type": "code",
   "execution_count": 7,
   "metadata": {
    "collapsed": false,
    "scrolled": true
   },
   "outputs": [
    {
     "name": "stdout",
     "output_type": "stream",
     "text": [
      "Stored 'review_df' (DataFrame)\n"
     ]
    }
   ],
   "source": [
    "review_df['review_clean'] = review_df['text'].apply(preprocess_text)\n",
    "review_df.head(3)\n",
    "%store review_df"
   ]
  },
  {
   "cell_type": "code",
   "execution_count": 2,
   "metadata": {
    "collapsed": true
   },
   "outputs": [],
   "source": [
    "%store -r review_df"
   ]
  },
  {
   "cell_type": "markdown",
   "metadata": {},
   "source": [
    "### Unique tokens?\n",
    "Size of your feature space. That is, how many unique tokens are present?"
   ]
  },
  {
   "cell_type": "code",
   "execution_count": 6,
   "metadata": {
    "collapsed": false,
    "scrolled": true
   },
   "outputs": [
    {
     "name": "stdout",
     "output_type": "stream",
     "text": [
      "Stored 'review_matrix' (csr_matrix)\n"
     ]
    }
   ],
   "source": [
    "count_vect = CountVectorizer(token_pattern=r'\\b\\w+\\b')\n",
    "review_matrix = count_vect.fit_transform(review_df['review_clean'])\n",
    "%store review_matrix"
   ]
  },
  {
   "cell_type": "code",
   "execution_count": 9,
   "metadata": {
    "collapsed": false
   },
   "outputs": [
    {
     "name": "stdout",
     "output_type": "stream",
     "text": [
      "Unique word count is:  36555\n"
     ]
    }
   ],
   "source": [
    "word_dict= count_vect.vocabulary_\n",
    "\n",
    "n = len(word_dict)\n",
    "print 'Unique word count is: ', n"
   ]
  },
  {
   "cell_type": "markdown",
   "metadata": {},
   "source": [
    "### The Most Popular Words\n",
    "\n",
    "Great, now we can tokenize the documents. Let's make a list of the most popular words in our reviews. For this step, you should maintain a count of how many times each word occurs. Then print out the top-20 words in your reviews.\n",
    "\n",
    "Output should look like this:\n",
    "\n",
    "Rank Token Count\n",
    "\n",
    "1 awesome 78\n",
    "\n",
    "... ..."
   ]
  },
  {
   "cell_type": "code",
   "execution_count": 10,
   "metadata": {
    "collapsed": true
   },
   "outputs": [],
   "source": [
    "unique_words_count = review_matrix.sum(axis=0)\n",
    "words_freq = [(word, unique_words_count[0, idx]) for word, idx in count_vect.vocabulary_.items()]\n",
    "sorted_word_dict = sorted(words_freq, key = lambda x: x[1], reverse=True)"
   ]
  },
  {
   "cell_type": "code",
   "execution_count": 11,
   "metadata": {
    "collapsed": false
   },
   "outputs": [
    {
     "name": "stdout",
     "output_type": "stream",
     "text": [
      "1 \tthe \t246309\n",
      "2 \ti \t168931\n",
      "3 \tand \t168589\n",
      "4 \ta \t134904\n",
      "5 \tto \t128139\n",
      "6 \tit \t78867\n",
      "7 \tof \t76237\n",
      "8 \twa \t74020\n",
      "9 \tis \t63496\n",
      "10 \tfor \t60867\n",
      "11 \tin \t60523\n",
      "12 \tthat \t50804\n",
      "13 \tmy \t50565\n",
      "14 \tyou \t45881\n",
      "15 \tthey \t43635\n",
      "16 \tthi \t39940\n",
      "17 \twith \t39340\n",
      "18 \thave \t39082\n",
      "19 \tbut \t37967\n",
      "20 \ton \t35388\n"
     ]
    }
   ],
   "source": [
    "rank = 1\n",
    "for word, count in sorted_word_dict[:20]:\n",
    "    print rank, \"\\t\", word, \"\\t\", count\n",
    "    rank = rank + 1"
   ]
  },
  {
   "cell_type": "markdown",
   "metadata": {},
   "source": [
    "### Zipf's Law\n",
    "\n",
    "Let's see if this law applies to our Yelp reviews. Using matplotlib to plot the log-base10 term counts on the y-axis versus the log-base10 rank on the x-axis. "
   ]
  },
  {
   "cell_type": "code",
   "execution_count": 12,
   "metadata": {
    "collapsed": false
   },
   "outputs": [
    {
     "data": {
      "text/plain": [
       "{1: 246309,\n",
       " 2: 168931,\n",
       " 3: 168589,\n",
       " 4: 134904,\n",
       " 5: 128139,\n",
       " 6: 78867,\n",
       " 7: 76237,\n",
       " 8: 74020,\n",
       " 9: 63496,\n",
       " 10: 60867,\n",
       " 11: 60523,\n",
       " 12: 50804,\n",
       " 13: 50565,\n",
       " 14: 45881,\n",
       " 15: 43635,\n",
       " 16: 39940,\n",
       " 17: 39340,\n",
       " 18: 39082,\n",
       " 19: 37967,\n",
       " 20: 35388,\n",
       " 21: 34969,\n",
       " 22: 34289,\n",
       " 23: 31608,\n",
       " 24: 29853,\n",
       " 25: 27347,\n"
      ]
     },
     "execution_count": 12,
     "metadata": {},
     "output_type": "execute_result"
    }
   ],
   "source": [
    "rank_count_dict = {}\n",
    "count = 1\n",
    "for k,v in sorted_word_dict:\n",
    "    rank_count_dict[count] = v\n",
    "    count += 1\n",
    "\n",
    "rank_count_dict"
   ]
  },
  {
   "cell_type": "code",
   "execution_count": 17,
   "metadata": {
    "collapsed": false,
    "scrolled": false
   },
   "outputs": [
    {
     "data": {
      "text/plain": [
       "Text(0,0.5,u'log10 (count)')"
      ]
     },
     "execution_count": 17,
     "metadata": {},
     "output_type": "execute_result"
    },
    {
     "data": {
      "image/png": "[encoded data removed]",
      "text/plain": [
       "<matplotlib.figure.Figure at 0x7feb0a78e250>"
      ]
     },
     "metadata": {},
     "output_type": "display_data"
    }
   ],
   "source": [
    "%matplotlib inline\n",
    "import matplotlib.pyplot as plt\n",
    "from math import log\n",
    "x = [log(e,10) for e in rank_count_dict.keys()]\n",
    "y = [log(e,10) for e in rank_count_dict.values()]\n",
    "\n",
    "plt.plot(x,y)\n",
    "plt.xlabel('log10 (rank)')\n",
    "plt.ylabel('log10 (count)')"
   ]
  },
  {
   "cell_type": "markdown",
   "metadata": {},
   "source": [
    "Zipf's law states that the frequency of any word is inversely proportional to its rank in the frequency table. \n",
    "\n",
    "Our graph plotted above is consistent with the Zipf's law. Initial set of words with very high frequency are useless in our text analysis. As can be seen above (in top20 words section), these words are mostly stop words. As the rank of the words in increasing, the corresponding frequency of the word is decreasing.\n"
   ]
  },
  {
   "cell_type": "markdown",
   "metadata": {},
   "source": [
    "## Feature Represenation\n",
    "\n",
    "In this part  build feature vectors for each review. This will be input to our ML classifiers. Call parser from earlier, using all the same assumptions (e.g., casefolding, stemming). Each feature value should be the term count for that review."
   ]
  },
  {
   "cell_type": "code",
   "execution_count": 3,
   "metadata": {
    "collapsed": true
   },
   "outputs": [],
   "source": [
    "%store -r review_matrix"
   ]
  },
  {
   "cell_type": "code",
   "execution_count": 6,
   "metadata": {
    "collapsed": true
   },
   "outputs": [],
   "source": [
    "def prepare_data(dataframe):\n",
    "    dataframe['review_clean'] = review_df['text'].apply(preprocess_text)"
   ]
  },
  {
   "cell_type": "code",
   "execution_count": 7,
   "metadata": {
    "collapsed": false
   },
   "outputs": [
    {
     "data": {
      "text/plain": [
       "array([1, 1, 1, 1, 1, 1, 1, 1, 1, 1, 1, 2, 1, 1, 1, 2, 1, 2, 1, 1, 1, 1, 1,\n",
       "       2, 3, 1, 1, 1, 1, 1, 1, 1, 1, 3, 1, 1, 1, 1, 1, 1, 1, 1, 1, 1, 1, 3,\n",
       "       1, 1, 1, 1, 1, 2, 1, 6, 1, 3, 1, 3, 3, 1, 1, 3, 3, 1, 1, 4, 1, 1, 1,\n",
       "       1, 1, 1, 1, 1, 1, 1, 1, 1, 1, 1, 1, 1, 1, 1, 2, 1, 1, 1, 1, 1, 1, 1,\n",
       "       1, 1, 1, 1, 1, 1, 1, 2])"
      ]
     },
     "execution_count": 7,
     "metadata": {},
     "output_type": "execute_result"
    }
   ],
   "source": [
    "review_matrix.data[:100]"
   ]
  },
  {
   "cell_type": "code",
   "execution_count": 8,
   "metadata": {
    "collapsed": false
   },
   "outputs": [
    {
     "data": {
      "text/plain": [
       "(40000, 36555)"
      ]
     },
     "execution_count": 8,
     "metadata": {},
     "output_type": "execute_result"
    }
   ],
   "source": [
    "review_matrix.shape"
   ]
  },
  {
   "cell_type": "markdown",
   "metadata": {},
   "source": [
    "## Machine Learning Basics\n",
    "\n",
    "In this par evaluate a bunch of classifiers -- kNN, Decision tree, Naive Bayes, and SVM -- on the feature vectors generated in the previous task in two different settings. \n",
    "\n",
    "### Setting 1: Splitting data into train-test \n",
    "\n",
    "In the first setting, treat the first 70% of your data as training. The remaining 30% should be for testing. \n",
    "\n",
    "### Setting 2: Using 5 fold cross-validation\n",
    "\n",
    "In the second setting, use 5-folk cross-validation. \n",
    "\n",
    "### What to report\n",
    "\n",
    "* Report the overall accuracy for both settings.\n",
    "* For the class \"Food-relevant\", report the precision and recall for both settings.\n",
    "* For the class \"Food-irrelevant\", report the precision and recall for both settings."
   ]
  },
  {
   "cell_type": "markdown",
   "metadata": {},
   "source": [
    "#### Setting 1 - Split data into 70:30 ratio"
   ]
  },
  {
   "cell_type": "code",
   "execution_count": 4,
   "metadata": {
    "collapsed": false
   },
   "outputs": [
    {
     "name": "stdout",
     "output_type": "stream",
     "text": [
      "Length of original data:  40000\n",
      "Length of training data:  28000\n",
      "Length of test data:  12000\n"
     ]
    }
   ],
   "source": [
    "# TODO - Change to iloc to remove this deprecation warning\n",
    "partition_index = int(len(review_df) * .7)\n",
    "\n",
    "train_df = review_df.iloc[: partition_index] \n",
    "test_df = review_df.iloc[partition_index:]\n",
    "\n",
    "\n",
    "print \"Length of original data: \", len(review_df)\n",
    "print \"Length of training data: \", len(train_df)\n",
    "print \"Length of test data: \", len(test_df)"
   ]
  },
  {
   "cell_type": "code",
   "execution_count": 7,
   "metadata": {
    "collapsed": true
   },
   "outputs": [],
   "source": [
    "train_vectorizer = CountVectorizer(token_pattern = r'\\b\\w+\\b')\n",
    "train_review_matrix = train_vectorizer.fit_transform(train_df['review_clean'])\n",
    "test_review_matrix = train_vectorizer.transform(test_df['review_clean'])"
   ]
  },
  {
   "cell_type": "code",
   "execution_count": 8,
   "metadata": {
    "collapsed": false
   },
   "outputs": [
    {
     "name": "stdout",
     "output_type": "stream",
     "text": [
      "Stored 'train_review_matrix' (csr_matrix)\n",
      "Stored 'test_review_matrix' (csr_matrix)\n",
      "Stored 'train_df' (DataFrame)\n",
      "Stored 'test_df' (DataFrame)\n"
     ]
    }
   ],
   "source": [
    "%store train_review_matrix\n",
    "%store test_review_matrix\n",
    "%store train_df\n",
    "%store test_df"
   ]
  },
  {
   "cell_type": "code",
   "execution_count": 4,
   "metadata": {
    "collapsed": true
   },
   "outputs": [],
   "source": [
    "%store -r train_review_matrix\n",
    "%store -r test_review_matrix\n",
    "%store -r train_df\n",
    "%store -r test_df"
   ]
  },
  {
   "cell_type": "code",
   "execution_count": 5,
   "metadata": {
    "collapsed": true
   },
   "outputs": [],
   "source": [
    "from sklearn.metrics import accuracy_score, precision_score, recall_score\n",
    "\n",
    "def calculateMetrics(predicted_labels, true_labels):\n",
    "    accuracy = accuracy_score(true_labels, predicted_labels, normalize=True)\n",
    "\n",
    "    precision_food_relevant = precision_score(true_labels, predicted_labels, pos_label = 1)\n",
    "    recall_food_relevant = recall_score(true_labels, predicted_labels, pos_label = 1)\n",
    "    \n",
    "    precision_food_irrelevant = precision_score(true_labels, predicted_labels, pos_label = 0)\n",
    "    recall_food_irrelevant = recall_score(true_labels, predicted_labels, pos_label = 0)\n",
    "   \n",
    "    return accuracy, precision_food_relevant, recall_food_relevant, precision_food_irrelevant, recall_food_irrelevant"
   ]
  },
  {
   "cell_type": "code",
   "execution_count": 6,
   "metadata": {
    "collapsed": true
   },
   "outputs": [],
   "source": [
    "def print_metrics(metrics):\n",
    "    metrics = [round(e, 5) for e in metrics] \n",
    "    print \"Accuracy: \", metrics[0]\n",
    "    print \"Precision is \", metrics[1], \" and recall is \", metrics[2], \" for Food Relevant class\"\n",
    "    print \"Precision is \", metrics[3] , \" and recall is \", metrics[4], \" for Food Irrelevant class\""
   ]
  },
  {
   "cell_type": "markdown",
   "metadata": {},
   "source": [
    "#### Decision Tree Classifier"
   ]
  },
  {
   "cell_type": "code",
   "execution_count": 7,
   "metadata": {
    "collapsed": true
   },
   "outputs": [],
   "source": [
    "from sklearn import tree\n",
    "\n",
    "def decision_tree_model(train_review_matrix, train_df, test_review_matrix, test_df):\n",
    "    dt_clf = tree.DecisionTreeClassifier()\n",
    "    dt_clf = dt_clf.fit(train_review_matrix, train_df['isFoodRelevant'])\n",
    "\n",
    "    predicted_classes = dt_clf.predict(test_review_matrix)\n",
    "    metrics = calculateMetrics(predicted_classes, test_df['isFoodRelevant'])\n",
    "    return metrics, dt_clf"
   ]
  },
  {
   "cell_type": "code",
   "execution_count": 26,
   "metadata": {
    "collapsed": false
   },
   "outputs": [
    {
     "name": "stdout",
     "output_type": "stream",
     "text": [
      "Accuracy:  0.76517\n",
      "Precision is  0.07428  and recall is  0.94142  for Food Relevant class\n",
      "Precision is  0.99844  and recall is  0.76158  for Food Irrelevant class\n"
     ]
    }
   ],
   "source": [
    "dt_metrics = decision_tree_model(train_review_matrix, train_df, test_review_matrix, test_df)[0]\n",
    "print_metrics(dt_metrics)"
   ]
  },
  {
   "cell_type": "markdown",
   "metadata": {},
   "source": [
    "#### Naive Bayes Classifier"
   ]
  },
  {
   "cell_type": "code",
   "execution_count": 8,
   "metadata": {
    "collapsed": true
   },
   "outputs": [],
   "source": [
    "from sklearn.naive_bayes import MultinomialNB\n",
    "def naive_bayes_model(train_review_matrix, train_df, test_review_matrix, test_df):\n",
    "    clf = MultinomialNB().fit(train_review_matrix, train_df['isFoodRelevant'])\n",
    "\n",
    "    predicted_classes = clf.predict(test_review_matrix)\n",
    "    return calculateMetrics(predicted_classes, test_df['isFoodRelevant']), clf"
   ]
  },
  {
   "cell_type": "code",
   "execution_count": 28,
   "metadata": {
    "collapsed": false
   },
   "outputs": [
    {
     "name": "stdout",
     "output_type": "stream",
     "text": [
      "Accuracy:  0.93717\n",
      "Precision is  0.23805  and recall is  0.97908  for Food Relevant class\n",
      "Precision is  0.99955  and recall is  0.93631  for Food Irrelevant class\n"
     ]
    }
   ],
   "source": [
    "nb_metrics = naive_bayes_model(train_review_matrix, train_df, test_review_matrix, test_df)[0]\n",
    "print_metrics(nb_metrics)"
   ]
  },
  {
   "cell_type": "markdown",
   "metadata": {},
   "source": [
    "#### SVM Classifier"
   ]
  },
  {
   "cell_type": "code",
   "execution_count": 9,
   "metadata": {
    "collapsed": true
   },
   "outputs": [],
   "source": [
    "from sklearn import svm\n",
    "\n",
    "def svm_model(train_review_matrix, train_df, test_review_matrix, test_df):\n",
    "    svm_clf = svm.LinearSVC().fit(train_review_matrix, train_df['isFoodRelevant'])\n",
    "    predicted_classes = svm_clf.predict(test_review_matrix)\n",
    "    return calculateMetrics(predicted_classes, test_df['isFoodRelevant']), svm_clf"
   ]
  },
  {
   "cell_type": "code",
   "execution_count": 30,
   "metadata": {
    "collapsed": false
   },
   "outputs": [
    {
     "name": "stdout",
     "output_type": "stream",
     "text": [
      "Accuracy:  0.861\n",
      "Precision is  0.12256  and recall is  0.97071  for Food Relevant class\n",
      "Precision is  0.99931  and recall is  0.85877  for Food Irrelevant class\n"
     ]
    }
   ],
   "source": [
    "svm_metrics = svm_model(train_review_matrix, train_df, test_review_matrix, test_df)[0]\n",
    "print_metrics(svm_metrics)"
   ]
  },
  {
   "cell_type": "markdown",
   "metadata": {},
   "source": [
    "#### Random Forest Classifier (Not able to run KNN Classifier)"
   ]
  },
  {
   "cell_type": "code",
   "execution_count": 10,
   "metadata": {
    "collapsed": true
   },
   "outputs": [],
   "source": [
    "def rf_model(train_review_matrix, train_df, test_review_matrix, test_df):\n",
    "    rf_clf = RandomForestClassifier()\n",
    "    rf_clf.fit(train_review_matrix, train_df['isFoodRelevant'])\n",
    "    predicted_classes = rf_clf.predict(test_review_matrix)\n",
    "    return calculateMetrics(predicted_classes, test_df['isFoodRelevant']), rf_clf"
   ]
  },
  {
   "cell_type": "code",
   "execution_count": 91,
   "metadata": {
    "collapsed": false
   },
   "outputs": [
    {
     "name": "stdout",
     "output_type": "stream",
     "text": [
      "Accuracy:  0.78475\n",
      "Precision is  0.08381  and recall is  0.98745  for Food Relevant class\n",
      "Precision is  0.99967  and recall is  0.78063  for Food Irrelevant class\n"
     ]
    }
   ],
   "source": [
    "rf_metrics = rf_model(train_review_matrix, train_df, test_review_matrix, test_df)[0]\n",
    "print_metrics(rf_metrics)"
   ]
  },
  {
   "cell_type": "markdown",
   "metadata": {},
   "source": [
    "#### Setting 2: Cross Validation "
   ]
  },
  {
   "cell_type": "code",
   "execution_count": 11,
   "metadata": {
    "collapsed": true
   },
   "outputs": [],
   "source": [
    "def get_train_test_matrices(train_indices, test_indices, train_df, test_df):\n",
    "    train_vectorizer2 = CountVectorizer(token_pattern = r'\\b\\w+\\b')\n",
    "    train_review_matrix = train_vectorizer2.fit_transform(train_df['review_clean'])\n",
    "    test_review_matrix = train_vectorizer2.transform(test_df['review_clean'])\n",
    "    return train_review_matrix, test_review_matrix"
   ]
  },
  {
   "cell_type": "code",
   "execution_count": 12,
   "metadata": {
    "collapsed": true
   },
   "outputs": [],
   "source": [
    "def calculate_avg_metrics(metrics, model_index):\n",
    "    accurracy_avg = sum([tuple[0] for tuple in metrics[model_index]])/5\n",
    "    precision_food_relevant_avg = sum([tuple[1] for tuple in metrics[model_index]])/5\n",
    "    recall_food_relevant_avg = sum([tuple[2] for tuple in metrics[model_index]])/5\n",
    "    precision_food_irrelevant_avg = sum([tuple[3] for tuple in metrics[model_index]])/5\n",
    "    recall_food_irrelevant_avg = sum([tuple[4] for tuple in metrics[model_index]])/5\n",
    "    avg_metrics = (accurracy_avg, precision_food_relevant_avg, recall_food_relevant_avg, precision_food_irrelevant_avg, recall_food_irrelevant_avg)\n",
    "    print_metrics(avg_metrics)"
   ]
  },
  {
   "cell_type": "code",
   "execution_count": 13,
   "metadata": {
    "collapsed": true
   },
   "outputs": [],
   "source": [
    "def analyse_kfold_data(metrics):\n",
    "    print \"Decision Tree Model:\"\n",
    "    calculate_avg_metrics(metrics, 0)\n",
    "    print \"\"\n",
    "    print \"Naive Bayes Model\"\n",
    "    calculate_avg_metrics(metrics, 1)\n",
    "    print \"\"\n",
    "    print \"SVM\"\n",
    "    calculate_avg_metrics(metrics, 2)\n",
    "    print \"\"\n",
    "    print \"Random forest\"\n",
    "    calculate_avg_metrics(metrics, 3)"
   ]
  },
  {
   "cell_type": "code",
   "execution_count": 95,
   "metadata": {
    "collapsed": false
   },
   "outputs": [
    {
     "name": "stderr",
     "output_type": "stream",
     "text": [
      "/home/ubuntu/anaconda2/lib/python2.7/site-packages/sklearn/metrics/classification.py:1137: UndefinedMetricWarning: Recall is ill-defined and being set to 0.0 due to no true samples.\n",
      "  'recall', 'true', average, warn_for)\n"
     ]
    }
   ],
   "source": [
    "from sklearn.model_selection import KFold\n",
    "kf = KFold(n_splits = 5)\n",
    "\n",
    "m, itr = 4, 5 \n",
    "\n",
    "kfold_metrics = [[0 for x in range(itr)] for y in range(m)]\n",
    "idx = 0\n",
    "for train_indices, test_indices in kf.split(review_df):\n",
    "    train_df = review_df.iloc[train_indices]\n",
    "    test_df = review_df.iloc[test_indices]\n",
    "    train_review_matrix, test_review_matrix = get_train_test_matrices(train_indices, test_indices, train_df, test_df)\n",
    "    kfold_metrics[0][idx] = decision_tree_model(train_review_matrix, train_df, test_review_matrix, test_df)[0]\n",
    "    kfold_metrics[1][idx] = naive_bayes_model(train_review_matrix, train_df, test_review_matrix, test_df)[0]\n",
    "    kfold_metrics[2][idx] = svm_model(train_review_matrix, train_df, test_review_matrix, test_df)[0]\n",
    "    kfold_metrics[3][idx] = rf_model(train_review_matrix, train_df, test_review_matrix, test_df)[0]\n",
    "    idx = idx + 1"
   ]
  },
  {
   "cell_type": "code",
   "execution_count": 98,
   "metadata": {
    "collapsed": false
   },
   "outputs": [
    {
     "name": "stdout",
     "output_type": "stream",
     "text": [
      "Decision Tree Model:\n",
      "Accuracy:  0.8566\n",
      "Precision is  0.73125  and recall is  0.68607  for Food Relevant class\n",
      "Precision is  0.81424  and recall is  0.8633  for Food Irrelevant class\n",
      "\n",
      "Naive Bayes Model\n",
      "Accuracy:  0.93578\n",
      "Precision is  0.7591  and recall is  0.75242  for Food Relevant class\n",
      "Precision is  0.90816  and recall is  0.92092  for Food Irrelevant class\n",
      "\n",
      "SVM\n",
      "Accuracy:  0.91062\n",
      "Precision is  0.75654  and recall is  0.72685  for Food Relevant class\n",
      "Precision is  0.87042  and recall is  0.91541  for Food Irrelevant class\n",
      "\n",
      "Random forest\n",
      "Accuracy:  0.8728\n",
      "Precision is  0.76162  and recall is  0.66994  for Food Relevant class\n",
      "Precision is  0.8046  and recall is  0.92082  for Food Irrelevant class\n"
     ]
    }
   ],
   "source": [
    "analyse_kfold_data(kfold_metrics)"
   ]
  },
  {
   "cell_type": "markdown",
   "metadata": {},
   "source": [
    "## Part 1.5: Improving  classifier \n",
    "\n",
    "I think we can do better!"
   ]
  },
  {
   "cell_type": "code",
   "execution_count": 17,
   "metadata": {
    "collapsed": true
   },
   "outputs": [],
   "source": [
    "# Trying TFidf Transformer\n",
    "from sklearn.feature_extraction.text import TfidfVectorizer\n",
    "\n",
    "def get_train_test_matrices_v2(train_indices, test_indices, train_df, test_df):\n",
    "    tfidf_vectoriser = TfidfVectorizer(token_pattern = r'\\b\\w\\w\\w+\\b', stop_words='english')\n",
    "    train_review_matrix = tfidf_vectoriser.fit_transform(train_df['review_clean'])\n",
    "    test_review_matrix = tfidf_vectoriser.transform(test_df['review_clean'])\n",
    "    return train_review_matrix, test_review_matrix"
   ]
  },
  {
   "cell_type": "code",
   "execution_count": 18,
   "metadata": {
    "collapsed": false
   },
   "outputs": [
    {
     "name": "stderr",
     "output_type": "stream",
     "text": [
      "/home/ubuntu/anaconda2/lib/python2.7/site-packages/sklearn/metrics/classification.py:1137: UndefinedMetricWarning: Recall is ill-defined and being set to 0.0 due to no true samples.\n",
      "  'recall', 'true', average, warn_for)\n"
     ]
    },
    {
     "name": "stdout",
     "output_type": "stream",
     "text": [
      "Decision Tree Model:\n",
      "Accuracy:  0.8677\n",
      "Precision is  0.73749  and recall is  0.69792  for Food Relevant class\n",
      "Precision is  0.82902  and recall is  0.87058  for Food Irrelevant class\n",
      "\n",
      "Naive Bayes Model\n",
      "Accuracy:  0.91895\n",
      "Precision is  0.76601  and recall is  0.73799  for Food Relevant class\n",
      "Precision is  0.88303  and recall is  0.92748  for Food Irrelevant class\n",
      "\n",
      "SVM\n",
      "Accuracy:  0.93345\n",
      "Precision is  0.77229  and recall is  0.7375  for Food Relevant class\n",
      "Precision is  0.88769  and recall is  0.94656  for Food Irrelevant class\n",
      "\n",
      "Random forest\n",
      "Accuracy:  0.89355\n",
      "Precision is  0.76327  and recall is  0.69638  for Food Relevant class\n",
      "Precision is  0.8334  and recall is  0.92411  for Food Irrelevant class\n"
     ]
    }
   ],
   "source": [
    "from sklearn.model_selection import KFold\n",
    "kf = KFold(n_splits = 5)\n",
    "\n",
    "m, itr = 4, 5 \n",
    "\n",
    "kfold_metrics = [[0 for x in range(itr)] for y in range(m)]\n",
    "idx = 0\n",
    "for train_indices, test_indices in kf.split(review_df):\n",
    "    train_df = review_df.iloc[train_indices]\n",
    "    test_df = review_df.iloc[test_indices]\n",
    "    train_review_matrix, test_review_matrix = get_train_test_matrices_v2(train_indices, test_indices, train_df, test_df)\n",
    "    kfold_metrics[0][idx] = decision_tree_model(train_review_matrix, train_df, test_review_matrix, test_df)[0]\n",
    "    kfold_metrics[1][idx] = naive_bayes_model(train_review_matrix, train_df, test_review_matrix, test_df)[0]\n",
    "    kfold_metrics[2][idx] = svm_model(train_review_matrix, train_df, test_review_matrix, test_df)[0]\n",
    "    kfold_metrics[3][idx] = rf_model(train_review_matrix, train_df, test_review_matrix, test_df)[0]\n",
    "    idx = idx + 1\n",
    "    \n",
    "analyse_kfold_data(kfold_metrics)    "
   ]
  },
  {
   "cell_type": "markdown",
   "metadata": {},
   "source": [
    "### In the above approach, I am removing all the standard stop words in the English dictionary from the review text. Also, I am removing any word that has length less than 3 from the reviews. Following that, I am using Tf-idf scoring criteria for feature space.\n",
    "\n",
    "If we only compare the accuracy of this Tf-idf model with the vanilla term-frequency model, there hasn't been much change in the accuracy from one model to other.\n",
    "\n",
    "However, the there is improvement in the precision of Food-Relevant label from ~75% to ~77%. This is good improvement.\n",
    "\n",
    "\n",
    "### 2) Using Bi-gram language model with svm "
   ]
  },
  {
   "cell_type": "code",
   "execution_count": 115,
   "metadata": {
    "collapsed": false
   },
   "outputs": [
    {
     "name": "stdout",
     "output_type": "stream",
     "text": [
      "Stored 'bigram_vectoriser' (CountVectorizer)\n",
      "Stored 'train_bigram_matrix' (csr_matrix)\n",
      "Stored 'test_bigram_matrix' (csr_matrix)\n"
     ]
    }
   ],
   "source": [
    "bigram_vectoriser = CountVectorizer(ngram_range=(1,2), token_pattern = r'\\b\\w\\w\\w+\\b', stop_words='english')\n",
    "train_bigram_matrix = bigram_vectoriser.fit_transform(train_df[\"review_clean\"])\n",
    "test_bigram_matrix = bigram_vectoriser.transform(test_df[\"review_clean\"])\n",
    "%store bigram_vectoriser\n",
    "%store train_bigram_matrix\n",
    "%store test_bigram_matrix"
   ]
  },
  {
   "cell_type": "code",
   "execution_count": 117,
   "metadata": {
    "collapsed": false
   },
   "outputs": [
    {
     "data": {
      "text/plain": [
       "{u'south road': 720904,\n",
       " u'includ yelp': 390221,\n",
       " u'honest someth': 372738,\n",
       " u'case involv': 124992,\n",
       " u'contemporari rust': 172617,\n",
       " u'filet fix': 292768,\n",
       " u'pastrami virgin': 555082,\n",
       " u'includ doubl': 389644,\n",
       " u'haven chees': 359027,\n",
       " u'huge fanfar': 381328,\n",
       " u'hope beef': 374067,\n",
       " u'lot potenti': 455348,\n",
       " u'thing besid': 782607,\n",
       " u'theme peta': 778782,\n",
       " u'happier couldn': 356470,\n",
       " u'beauti gurgl': 69001,\n",
       " u'person add': 564347,\n",
       " u'gone won': 331875,\n",
       " u'middl stage': 488090,\n",
       " u'overcharg fifti': 543176,\n",
       " u'came helper': 117748,\n",
       " u'bar byron': 61519,\n",
       " u'burro total': 110981,\n",
       " u'inexpens delici': 392342,\n",
       " u'piec look': 571754,\n",
       " u'reflect littl': 626839,\n",
       " u'combin mexican': 159842,\n",
       " u'passion thi': 553910,\n",
       " u'possibl disgust': 588977,\n",
       " u'plu tri': 583484,\n",
       " u'ars littl': 42584,\n",
       " u'dri rib': 239358,\n",
       " u'place shadi': 577274,\n",
       " u'dancer like': 197624,\n",
       " u'sonic great': 717362,\n",
       " u'purchas thought': 607880,\n",
       " u'trojan': 810460,\n",
       " u'wine pitcher': 863880,\n",
       " u'strike food': 746536,\n",
       " u'fact chicago': 278971,\n",
       " u'littl prici': 445885,\n",
       " u'unit point': 820697,\n",
       " u'miss sometim': 493120,\n",
       " u'bracken great': 97130,\n",
       " u'run film': 654396,\n",
       " u'thi time': 782048,\n",
       " u'littl price': 445883,\n",
       " u'best sashimi': 78792,\n",
       " u'andouil potato': 27603,\n",
       " u'display larg': 228069,\n",
       " u'becaus ensalada': 70106,\n",
       " u'corpor came': 177954,\n",
       " u'week food': 853904,\n",
       " u'airflow mean': 19107,\n",
       " u'way year': 852080,\n",
       " u'outsid vibe': 542187,\n",
       " u'say san': 669674,\n",
       " u'cruz came': 191413,\n",
       " u'els attitud': 252221,\n",
       " u'jar thi': 404690,\n",
       " u'live theme': 447122,\n",
       " u'madison histori': 463217,\n",
       " u'sort bird': 718894,\n",
       " u'lemon wedg': 432602,\n",
       " u'bundl plu': 109093,\n",
       " u'split larg': 727276,\n",
       " u'pleas add': 581397,\n",
       " u'plate realli': 579979,\n",
       " u'guarante excel': 347346,\n",
       " u'singer guitar': 700787,\n",
       " u'scienc cours': 672352,\n",
       " u'start earlyish': 735541,\n",
       " u'good reput': 333965,\n",
       " u'clear jon': 151658,\n",
       " u'barn hop': 63513,\n",
       " u'time realli': 791117,\n",
       " u'creami mushroom': 187287,\n",
       " u'hang lunch': 354706,\n",
       " u'experi meet': 273477,\n",
       " u'finish cup': 294957,\n",
       " u'buy bonsai': 113243,\n",
       " u'grade math': 338543,\n",
       " u'rave later': 617108,\n",
       " u'need minor': 509108,\n",
       " u'possibl gave': 589023,\n",
       " u'quickli left': 611732,\n",
       " u'voic heavili': 838303,\n",
       " u'talk chang': 765680,\n",
       " u'grand children': 338791,\n",
       " u'pack veri': 546273,\n",
       " u'littl laid': 445517,\n",
       " u'extrem attract': 276489,\n",
       " u'south north': 720884,\n",
       " u'veal chop': 829890,\n",
       " u'ive hundr': 403322,\n",
       " u'accordingli filet': 9728,\n",
       " u'suppli did': 755959,\n",
       " u'bring compimentari': 101580,\n",
       " u'glanc insid': 328724,\n",
       " u'tartar lobster': 767961,\n",
       " u'shrimp sandwhich': 695901,\n",
       " u'cuban puerto': 191594,\n",
       " u'guess store': 348063,\n",
       " u'toast start': 793984,\n",
       " u'servic van': 685864,\n",
       " u'brush charm': 105438,\n",
       " u'friendli earli': 315279,\n",
       " u'guess stori': 348064,\n",
       " u'attent bear': 49481,\n",
       " u'word bianco': 868852,\n",
       " u'waitstaff just': 841483,\n",
       " u'dish brave': 226548,\n",
       " u'act 6th': 10586,\n",
       " u'kid chees': 415271,\n",
       " u'servic vax': 685868,\n",
       " u'tank becaus': 766960,\n",
       " u'tri dang': 807713,\n",
       " u'tri danc': 807712,\n",
       " u'oil lamb': 527422,\n",
       " u'water ridicul': 849965,\n",
       " u'annoy bean': 30090,\n",
       " u'wait opinion': 840013,\n",
       " u'washer spread': 847661,\n",
       " u'quit strong': 612878,\n",
       " u'price train': 597517,\n",
       " u'00am lunch': 96,\n",
       " u'bad mizthra': 57662,\n",
       " u'entertain alreadi': 259009,\n",
       " u'thing critic': 782809,\n",
       " u'ate juan': 47584,\n",
       " u'credit check': 187827,\n",
       " u'fresh daili': 311450,\n",
       " u'spinach salad': 726791,\n",
       " u'super pysch': 755297,\n",
       " u'hour juansday': 378024,\n",
       " u'wise tini': 865401,\n",
       " u'seen aida': 678207,\n",
       " u'locat anoth': 448837,\n",
       " u'skillet shrimp': 704218,\n",
       " u'rebandag check': 622158,\n",
       " u'cream huckleberri': 186872,\n",
       " u'place biltmor': 575270,\n",
       " u'option complet': 535810,\n",
       " u'center fresh': 128726,\n",
       " u'prepay anymor': 593754,\n",
       " u'soup thai': 720435,\n",
       " u'pleasant possibl': 582098,\n",
       " u'julian provid': 409850,\n",
       " u'germaphob realli': 325730,\n",
       " u'reproach great': 634415,\n",
       " u'lukewarm cold': 460348,\n",
       " u'pictur dark': 570863,\n",
       " u'varieti total': 829511,\n",
       " u'kudo waitress': 422437,\n",
       " u'miel fine': 488430,\n",
       " u'day xma': 201423,\n",
       " u'locat diamondback': 449070,\n",
       " u'gave singl': 323369,\n",
       " u'similar issu': 698270,\n",
       " u'roll cake': 648982,\n",
       " u'share fresh': 689256,\n",
       " u'easili impress': 246873,\n",
       " u'titl artist': 793591,\n",
       " u'member buri': 482070,\n",
       " u'coe great': 156646,\n",
       " u'noth pretti': 520643,\n",
       " u'pull headrest': 606449,\n",
       " u'bought ken': 94764,\n",
       " u'hang soon': 354800,\n",
       " u'addict summer': 12727,\n",
       " u'happen purs': 355524,\n",
       " u'notic glare': 521110,\n",
       " u'live pretent': 446996,\n",
       " u'acknowledg parti': 10375,\n",
       " u'member non': 482208,\n",
       " u'accord worker': 9715,\n",
       " u'owner sens': 545336,\n",
       " u'clean sanitari': 151020,\n",
       " u'best fri': 78165,\n",
       " u'month guarante': 497946,\n",
       " u'owner sent': 545337,\n",
       " u'short hang': 693882,\n",
       " u'seller use': 680488,\n",
       " u'short hand': 693881,\n",
       " u'declin took': 205304,\n",
       " u'sure sever': 757710,\n",
       " u'clearli lane': 151934,\n",
       " u'sausag omelet': 667059,\n",
       " u'becaus month': 70624,\n",
       " u'ask mother': 45015,\n",
       " u'valu base': 828375,\n",
       " u'profit place': 602607,\n",
       " u'limp year': 441706,\n",
       " u'mac cheeseburg': 462136,\n",
       " u'couldn perfect': 179904,\n",
       " u'strang couldn': 744910,\n",
       " u'listen idiot': 443844,\n",
       " u'bee problem': 72163,\n",
       " u'rudest peopl': 653621,\n",
       " u'await appar': 53319,\n",
       " u'push near': 608493,\n",
       " u'order incent': 537807,\n",
       " u'care young': 123203,\n",
       " u'nosomuch nielsen': 519324,\n",
       " u'pumpkin free': 606875,\n",
       " u'greasi tabl': 340282,\n",
       " u'lover good': 458862,\n",
       " u'desir start': 213734,\n",
       " u'inquiri friend': 394530,\n",
       " u'pain cute': 547381,\n",
       " u'phx sore': 569094,\n",
       " u'bonu shoe': 91609,\n",
       " u'like fajita': 438470,\n",
       " u'sweet befor': 760625,\n",
       " u'leather repair': 430074,\n",
       " u'escap establish': 261858,\n",
       " u'instal themselv': 396065,\n",
       " u'size wonder': 703520,\n",
       " u'hot offer': 376497,\n",
       " u'chocol die': 144236,\n",
       " u'rotten hoppiest': 652062,\n",
       " u'involv repair': 399864,\n",
       " u'volcan erupt': 838431,\n",
       " u'4pm staff': 4694,\n",
       " u'prefer old': 592702,\n",
       " u'stuck indi': 747593,\n",
       " u'compar wait': 164852,\n",
       " u'rock close': 648125,\n",
       " u'disgust egg': 226291,\n",
       " u'opt cobb': 535427,\n",
       " u'cent hot': 128438,\n",
       " u'age check': 16774,\n",
       " u'cycleri got': 196141,\n",
       " u'verbal inform': 832166,\n",
       " u'primo rate': 598370,\n",
       " u'fir': 295320,\n",
       " u'welcom invit': 856051,\n",
       " u'fit': 296338,\n",
       " u'fix': 296784,\n",
       " u'abund pleas': 8260,\n",
       " u'fib': 291671,\n",
       " u'better stuf': 80511,\n",
       " u'gain let': 320167,\n",
       " u'check bike': 135714,\n",
       " u'fie': 291744,\n",
       " u'orang uppiti': 536692,\n",
       " u'glendal differ': 329616,\n",
       " u'fin': 293323,\n",
       " u'bmw come': 89757,\n",
       " u'fil': 292609,\n",
       " u'card 1pt': 121634,\n",
       " u'melt right': 481978,\n",
       " u'min counter': 489697,\n",
       " u'store claim': 743004,\n",
       " u'stay meet': 737733,\n",
       " u'love friend': 457395,\n",
       " u'just detect': 410825,\n",
       " u'arcadia district': 38735,\n",
       " u'tall mouth': 766377,\n",
       " u'cool whip': 176322,\n",
       " u'estim spot': 263608,\n",
       " u'sit bento': 701681,\n",
       " u'plu wasn': 583515,\n",
       " u'ham muenster': 352995,\n",
       " u'life promis': 436007,\n",
       " u'atmospher end': 48220,\n",
       " u'breakout impress': 99905,\n",
       " u'includ mexico': 389863,\n",
       " u'definit hit': 207076,\n",
       " u'recent neighborhood': 623272,\n",
       " u'construct longer': 171834,\n",
       " u'reuben guess': 640595,\n",
       " u'phoenix foccacia': 567142,\n",
       " u'reason champagn': 621442,\n",
       " u'buco rabbit': 106339,\n",
       " u'night club': 515397,\n",
       " u'local baker': 448166,\n",
       " u'actual hierarchi': 11461,\n",
       " u'boba eat': 90323,\n",
       " u'dish wrong': 227491,\n",
       " u'qualiti shame': 609610,\n",
       " u'question want': 610852,\n",
       " u'tolteca menu': 796836,\n",
       " u'product dog': 601691,\n",
       " u'chunk lobster': 147101,\n",
       " u'salad instead': 658757,\n",
       " u'friendli polit': 315677,\n",
       " u'product don': 601692,\n",
       " u'famili madison': 281558,\n",
       " u'look fresca': 452421,\n",
       " u'member shopper': 482271,\n",
       " u'food man': 304380,\n",
       " u'titl seen': 793644,\n",
       " u'northsid look': 519153,\n",
       " u'thought tikka': 786973,\n",
       " u'haul actual': 358825,\n",
       " u'food mac': 304364,\n",
       " u'sauc unexpect': 666625,\n",
       " u'ill peopl': 386128,\n",
       " u'waca waca': 839050,\n",
       " u'adapt arriv': 12130,\n",
       " u'email figur': 253223,\n",
       " u'bodi lotion': 90567,\n",
       " u'bean clam': 67649,\n",
       " u'movi reason': 501486,\n",
       " u'talk ski': 766157,\n",
       " u'incred later': 390893,\n",
       " u'gay server': 323601,\n",
       " u'old offic': 528851,\n",
       " u'greet immedi': 343348,\n",
       " u'come broth': 160422,\n",
       " u'got brochur': 335681,\n",
       " u'awesom count': 54814,\n",
       " u'slice later': 705890,\n",
       " u'tast bolognes': 768164,\n",
       " u'liter bad': 444189,\n",
       " u'snide remark': 711348,\n",
       " u'someth anoth': 714789,\n",
       " u'tell magnific': 773094,\n",
       " u'piss becaus': 573354,\n",
       " u'think love': 784908,\n",
       " u'daughter spaghetti': 199534,\n",
       " u'regist disappoint': 627912,\n",
       " u'tag commit': 764629,\n",
       " u'ago ring': 17686,\n",
       " u'turn shopper': 814148,\n",
       " u'tape seal': 767401,\n",
       " u'opt someth': 535546,\n",
       " u'italian schmuck': 402243,\n",
       " u'tortur crispi': 800193,\n",
       " u'condit fraction': 168958,\n",
       " u'need correctli': 508503,\n",
       " u'channel sport': 132786,\n",
       " u'onli walk': 533103,\n",
       " u'moss spa': 499773,\n",
       " u'airport dinnertim': 19308,\n",
       " u'session start': 686081,\n",
       " u'arriv vinaigrett': 42469,\n",
       " u'loin roast': 450343,\n",
       " u'age discrep': 16803,\n",
       " u'antiqu littl': 32020,\n",
       " u'soup magic': 720188,\n",
       " u'salmon look': 660114,\n",
       " u'water came': 849530,\n",
       " u'wipe dirti': 864954,\n",
       " u'girl desk': 327080,\n",
       " u'definit casual': 206820,\n",
       " u'howev yelp': 380582,\n",
       " u'round sinc': 652437,\n",
       " u'shirt cowboy': 691261,\n",
       " u'rate exam': 616602,\n",
       " u'known pub': 421754,\n",
       " u'signag line': 697614,\n",
       " u'rush greet': 655218,\n",
       " u'seen experi': 678369,\n",
       " u'loud guess': 456010,\n",
       " u'household stuff': 379428,\n",
       " u'like mimi': 439412,\n",
       " u'artichok tender': 43061,\n",
       " u'simpl improv': 698657,\n",
       " u'pita dri': 573625,\n",
       " u'chest cough': 139269,\n",
       " u'great croissant': 340809,\n",
       " u'fam beauti': 281188,\n",
       " u'bike gear': 82993,\n",
       " u'ambianc experi': 26050,\n",
       " u'custom manag': 194491,\n",
       " u'zoo special': 882961,\n",
       " u'veri north': 833099,\n",
       " u'target drive': 767550,\n",
       " u'walk area': 841799,\n",
       " u'world cocktail': 871462,\n",
       " u'list recommend': 443589,\n",
       " u'radiat come': 613691,\n",
       " u'beauti wear': 69362,\n",
       " u'walk aren': 841800,\n",
       " u'howev avoid': 379795,\n",
       " u'investig known': 399494,\n",
       " u'eat coronado': 247536,\n",
       " u'littl liquor': 445561,\n",
       " u'cours karaok': 182446,\n",
       " u'inform someon': 393182,\n",
       " u'imagin digest': 386433,\n",
       " u'opt marbl': 535481,\n",
       " u'memori bitter': 482726,\n",
       " u'cantones chow': 119831,\n",
       " u'subpar order': 750754,\n",
       " u'realli perform': 620668,\n",
       " u'fast becom': 285203,\n",
       " u'creme chocol': 188216,\n",
       " u'disorgan ani': 227804,\n",
       " u'sell whi': 680448,\n",
       " u'iphon face': 400033,\n",
       " u'chang stylist': 132606,\n",
       " u'purchas alcohol': 607403,\n",
       " u'written poor': 875297,\n",
       " u'abandon experi': 6511,\n",
       " u'job bob': 406473,\n",
       " u'run pretti': 654660,\n",
       " u'didn tech': 218607,\n",
       " u'push walk': 608561,\n",
       " u'expect grey': 271631,\n",
       " u'went somewher': 857669,\n",
       " u'onlin tire': 533458,\n",
       " u'place bakeri': 575201,\n",
       " u'typic airport': 815671,\n",
       " u'firehous sub': 295368,\n",
       " u'didn damn': 217996,\n",
       " u'isabel got': 400489,\n",
       " u'bore vanilla': 93435,\n",
       " u'relax know': 629673,\n",
       " u'jim beam': 406224,\n",
       " u'open build': 533887,\n",
       " u'tonia girl': 798123,\n",
       " u'evo like': 267592,\n",
       " u'event simpli': 264601,\n",
       " u'reynold movi': 642189,\n",
       " u'food anti': 303229,\n",
       " u'start mumbl': 735853,\n",
       " u'date away': 198768,\n",
       " u'like sticker': 440501,\n",
       " u'art slice': 42840,\n",
       " u'surpris isn': 758633,\n",
       " u'hellish hour': 364149,\n",
       " u'senior year': 680943,\n",
       " u'impress butterfli': 388129,\n",
       " u'tabl disappoint': 762867,\n",
       " u'haunt check': 358872,\n",
       " u'like thermomet': 440683,\n",
       " u'leav excel': 430316,\n",
       " u'pro got': 599238,\n",
       " u'use startl': 825577,\n",
       " u'pork cloudi': 587489,\n",
       " u'confid dub': 169419,\n",
       " u'forbid quick': 305975,\n",
       " u'stick know': 740099,\n",
       " u'print card': 598464,\n",
       " u'star nice': 734363,\n",
       " u'quit item': 612647,\n",
       " u'downtown chicago': 236819,\n",
       " u'els lot': 252564,\n",
       " u'yelp date': 878870,\n",
       " u'dell taco': 210640,\n",
       " u'got permit': 336635,\n",
       " u'seat mall': 676159,\n",
       " u'expect order': 271823,\n",
       " u'gave opportun': 323254,\n",
       " u'watch continu': 848852,\n",
       " u'els low': 252566,\n",
       " u'apach': 34089,\n",
       " u'restaur': 637347,\n",
       " u'vintag theme': 836202,\n",
       " u'unwil admit': 822611,\n",
       " u'present just': 594189,\n",
       " u'chair couch': 130769,\n",
       " u'got chick': 335781,\n",
       " u'spoke thi': 727680,\n",
       " u'lamin want': 424517,\n",
       " u'morn ham': 499177,\n",
       " u'consign fashionista': 171031,\n",
       " u'barista write': 63438,\n",
       " u'chowder doe': 146394,\n",
       " u'chile best': 141875,\n",
       " u'pinpoint tri': 573111,\n",
       " u'afford phoenix': 15878,\n",
       " u'everi local': 265172,\n",
       " u'bring fix': 101686,\n",
       " u'ahead cancer': 18335,\n",
       " u'kid thumb': 415820,\n",
       " u'normal civil': 518593,\n",
       " u'lech portion': 430848,\n",
       " u'addit atmospher': 12779,\n",
       " u'adopt tech': 14196,\n",
       " u'hot admiss': 376084,\n",
       " u'dumond pet': 243768,\n",
       " u'dri straight': 239423,\n",
       " u'away sprint': 54379,\n",
       " u'understood cheer': 818699,\n",
       " u'pricelin gave': 597666,\n",
       " u'fog someon': 302074,\n",
       " u'fairli slow': 280542,\n",
       " u'includ quail': 389986,\n",
       " u'big spoonfool': 82341,\n",
       " u'suggest frank': 752584,\n",
       " u'ate hungri': 47574,\n",
       " u'awar like': 53442,\n",
       " u'liquid burn': 442988,\n",
       " u'product haven': 601762,\n",
       " u'dress did': 238483,\n",
       " u'particular veal': 552947,\n",
       " u'weekend offer': 854888,\n",
       " u'purchas mani': 607690,\n",
       " u'juli chef': 409759,\n",
       " u'fabul ahead': 277675,\n",
       " u'registr desk': 628060,\n",
       " u'forget esthetician': 306625,\n",
       " u'line spill': 442424,\n",
       " u'enjoy pork': 258065,\n",
       " u'box candi': 95979,\n",
       " u'wan worst': 843951,\n",
       " u'hotel lux': 377107,\n",
       " u'check dure': 135925,\n",
       " u'plant nerd': 578962,\n",
       " u'certif tabl': 130018,\n",
       " u'spend closer': 725072,\n",
       " u'mushroom egg': 503246,\n",
       " u'feel open': 289609,\n",
       " u'greatli disappoint': 342506,\n",
       " u'gave cut': 323009,\n",
       " u'harrow tale': 357846,\n",
       " u'gave cup': 323007,\n",
       " u'add lettuc': 12398,\n",
       " u'mule copper': 502276,\n",
       " u'zoolight tremend': 883065,\n",
       " u'arena fairli': 40476,\n",
       " u'decad matur': 203388,\n",
       " u'creativ cook': 187657,\n",
       " u'169 alreadi': 1428,\n",
       " u'book song': 92257,\n",
       " u'drop salsa': 242260,\n",
       " u'got cross': 335885,\n",
       " u'sad capabl': 656005,\n",
       " u'moder group': 494966,\n",
       " u'town cut': 802617,\n",
       " u'sweati soak': 760523,\n",
       " u'instructor phenomen': 397138,\n",
       " u'thank custom': 777572,\n",
       " u'room treatment': 651175,\n",
       " u'delici cesar': 208627,\n",
       " u'horiatiki tzatziki': 374705,\n",
       " u'best burrito': 77801,\n",
       " u'meat extra': 479123,\n",
       " u'burger hefeweizen': 109586,\n",
       " u'nacho look': 504855,\n",
       " u'differ live': 219829,\n",
       " u'suggest date': 752527,\n",
       " u'sinc summer': 700410,\n",
       " u'feta grill': 291283,\n",
       " u'said coffe': 657083,\n",
       " u'4pm dim': 4672,\n",
       " u'lishu': 443195,\n",
       " u'kosher alert': 422112,\n",
       " u'sinc noth': 700106,\n",
       " u'usual bad': 826043,\n",
       " u'total pretenti': 800966,\n",
       " u'shock averag': 691829,\n",
       " u'home integr': 371376,\n",
       " u'problem told': 600727,\n",
       " u'countdown new': 180297,\n",
       " u'cajun state': 115618,\n",
       " u'salesman hubbi': 659819,\n",
       " u'aerosmith song': 15484,\n",
       " u'unfair sinc': 819165,\n",
       " u'everi shot': 265353,\n",
       " u'non sequitur': 517578,\n",
       " u'everi shop': 265352,\n",
       " u'sammi tangi': 661929,\n",
       " u'final organ': 293745,\n",
       " u'deserv sever': 213271,\n",
       " u'everi shoe': 265351,\n",
       " u'befor fast': 74063,\n",
       " u'taken dimli': 765047,\n",
       " u'ray hous': 617466,\n",
       " u'bansi tree': 61291,\n",
       " u'ask ben': 44342,\n",
       " u'wollersheim prairi': 866306,\n",
       " u'repair estim': 633060,\n",
       " u'fix uniqu': 297262,\n",
       " u'realli hooter': 620387,\n",
       " u'sticker chicken': 740301,\n",
       " u'ahead came': 18334,\n",
       " u'drain jump': 237600,\n",
       " u'advocaci peopl': 15451,\n",
       " u'pete anoth': 565886,\n",
       " u'ihop list': 385991,\n",
       " u'scene rais': 671069,\n",
       " u'work smaller': 870574,\n",
       " u'bucket don': 106254,\n",
       " u'help crunch': 364602,\n",
       " u'extrem laid': 276640,\n",
       " u'art dri': 42673,\n",
       " u'resort cook': 636239,\n",
       " u'coupl object': 181540,\n",
       " u'resort cool': 636240,\n",
       " u'mansion bit': 470451,\n",
       " u'compar airplan': 164495,\n",
       " u'sandwich rearrang': 663541,\n",
       " u'fri mandarin': 312757,\n",
       " u'romano chees': 649782,\n",
       " u'increas onli': 390641,\n",
       " u'driven child': 241575,\n",
       " u'appetit push': 36362,\n",
       " u'center courtyard': 128646,\n",
       " u'loung recommend': 456467,\n",
       " u'ranch came': 615036,\n",
       " u'forev want': 306492,\n",
       " u'bass duo': 65864,\n",
       " u'pack sport': 546209,\n",
       " u'zoo becom': 882680,\n",
       " u'experienc life': 274200,\n",
       " u'like comfi': 437983,\n",
       " u'slam effici': 705002,\n",
       " u'pepperoni chees': 561849,\n",
       " u'symphoni unqualifi': 762179,\n",
       " u'mushroom risotto': 503358,\n",
       " u'nearli pool': 507620,\n",
       " u'purchas deal': 607521,\n",
       " u'averag time': 52759,\n",
       " u'yummi pesto': 881564,\n",
       " u'sit dri': 701809,\n",
       " u'husband comment': 383540,\n",
       " u'elderli server': 251479,\n",
       " u'someshit': 714753,\n",
       " u'seafood sensat': 674778,\n",
       " u'butt chicagoan': 112459,\n",
       " u'dozen pound': 237249,\n",
       " u'lumbar spine': 460399,\n",
       " u'homemad cook': 372128,\n",
       " u'nutty oil': 523025,\n",
       " u'finish thoroughli': 295242,\n",
       " u'uncl birthday': 817579,\n",
       " u'hotel cool': 376934,\n",
       " u'kind care': 416482,\n",
       " u'make sick': 466248,\n",
       " u'massiv overhaul': 473974,\n",
       " u'butternut risotto': 113033,\n",
       " u'worst onli': 872680,\n",
       " u'second long': 676873,\n",
       " u'fit eas': 296459,\n",
       " u'client pay': 152402,\n",
       " u'ive consist': 403303,\n",
       " u'hand bravo': 353356,\n",
       " u'slaw super': 705343,\n",
       " u'abandon actual': 6504,\n",
       " u'eat natur': 248011,\n",
       " u'bouquet flower': 95152,\n",
       " u'standard chain': 733144,\n",
       " u'easi friendship': 246321,\n",
       " u'food allow': 303211,\n",
       " u'actual lot': 11560,\n",
       " u'client tonight': 152451,\n",
       " u'joe eat': 407233,\n",
       " u'expens seat': 272616,\n",
       " u'hidden cost': 366465,\n",
       " u'depend behavior': 211777,\n",
       " u'neighborhood typic': 510751,\n",
       " u'thing dairi': 782823,\n",
       " u'mistak penni': 493481,\n",
       " u'bit raw': 85417,\n",
       " u'adenhart': 13300,\n",
       " u'tabl accommod': 762580,\n",
       " u'sometim alright': 715873,\n",
       " u'decis perch': 205081,\n",
       " u'theater showtun': 778471,\n",
       " u'star stop': 734634,\n",
       " u'offal famou': 525396,\n",
       " u'differ tgi': 220207,\n",
       " u'vip pedicur': 836396,\n",
       " u'ask spare': 45396,\n",
       " u'godlik': 330690,\n",
       " u'appreci joke': 37666,\n",
       " u'everywher hot': 267352,\n",
       " u'ani buddha': 28139,\n",
       " u'student stale': 747879,\n",
       " u'risk twin': 646779,\n",
       " u'actual wrote': 11995,\n",
       " u'bradley bag': 97200,\n",
       " u'pull berto': 606309,\n",
       " u'fan right': 282737,\n",
       " u'day altho': 199884,\n",
       " u'ball weight': 60130,\n",
       " u'bathroom need': 66357,\n",
       " u'hazard silli': 359507,\n",
       " u'wasn mouss': 848170,\n",
       " u'hand 400': 353275,\n",
       " u'indic haver': 391568,\n",
       " u'veri uneth': 833583,\n",
       " u'lot fear': 454860,\n",
       " u'sinc child': 699585,\n",
       " u'flavor choke': 298402,\n",
       " u'frozen fish': 316743,\n",
       " u'dicey phoenix': 216423,\n",
       " u'futur yelp': 319828,\n",
       " u'gentl clean': 325134,\n",
       " u'tiramisu share': 793074,\n",
       " u'ignor cold': 385775,\n",
       " u'shop coordin': 692763,\n",
       " u'friend nostril': 314464,\n",
       " u'french bulldog': 310662,\n",
       " u'refil flag': 626617,\n",
       " u'thought earl': 786413,\n",
       " u'menu layout': 484429,\n",
       " u'say crush': 668827,\n",
       " u'thing larg': 783220,\n",
       " u'thing lari': 783221,\n",
       " u'amaz felt': 25035,\n",
       " u'pick bit': 569557,\n",
       " u'life_ place': 436172,\n",
       " u'drive mcdowel': 241267,\n",
       " u'singlehandedli creat': 701078,\n",
       " u'buck come': 105902,\n",
       " u'doctress saw': 230170,\n",
       " u'rais atheist': 614353,\n",
       " u'isnt wrong': 401301,\n",
       " u'standard baja': 733106,\n",
       " u'concert classi': 168404,\n",
       " u'origin spici': 539997,\n",
       " u'plu cheaper': 583002,\n",
       " u'driver scallop': 241741,\n",
       " u'lab order': 422555,\n",
       " u'completli': 166946,\n",
       " u'pocket smooth': 583908,\n",
       " u'tabl cheaper': 762751,\n",
       " u'filet tilapia': 292860,\n",
       " u'super quick': 755299,\n",
       " u'wax phoenix': 850503,\n",
       " u'booth light': 92829,\n",
       " u'ray touch': 617532,\n",
       " u'stown downtown': 744475,\n",
       " u'overs good': 544347,\n",
       " u'signatur wast': 697746,\n",
       " u'inventori amaz': 399342,\n",
       " u'waft smoke': 839197,\n",
       " u'weekend mention': 854856,\n",
       " u'beat greet': 68496,\n",
       " u'traumat happen': 805485,\n",
       " u'glitch secur': 329704,\n",
       " u'wonder matur': 867878,\n",
       " u'ban bad': 60464,\n",
       " u'charg actual': 133203,\n",
       " u'tryi salad': 812238,\n",
       " u'joke unless': 408378,\n",
       " u'job rug': 406959,\n",
       " u'shape rear': 689005,\n",
       " u'like guanaquito': 438774,\n",
       " u'door delux': 234746,\n",
       " u'week respect': 854241,\n",
       " u'social reduc': 712149,\n",
       " u'isn sign': 401142,\n",
       " u'select tryin': 679802,\n",
       " u'plumb lol': 583644,\n",
       " u'horrif famili': 375170,\n",
       " u'market specif': 472448,\n",
       " u'deliv bubbl': 210108,\n",
       " u'night soda': 516219,\n",
       " u'live stint': 447093,\n",
       " u'chinatown love': 142929,\n",
       " u'cloth know': 154448,\n",
       " u'plain disgust': 578027,\n",
       " u'gnocchi best': 330175,\n",
       " u'wide open': 861489,\n",
       " u'hand person': 353745,\n",
       " u'honeymoom': 373221,\n",
       " u'retir sorri': 639759,\n",
       " u'peopl myriad': 560748,\n",
       " u'honeymoon': 373223,\n",
       " u'ajo awesom': 19793,\n",
       " u'balderdash': 59876,\n",
       " u'kitchen kept': 418200,\n",
       " u'sit downstair': 701807,\n",
       " u'bud taco': 106449,\n",
       " u'ani asian': 28054,\n",
       " u'restaur moul': 638231,\n",
       " u'long phoenix': 451115,\n",
       " u'curd anoth': 193124,\n",
       " u'canneloni chicken': 119699,\n",
       " u'coronado garfield': 177902,\n",
       " u'valet staff': 827729,\n",
       " u'lol someon': 450506,\n",
       " u'servic central': 684394,\n",
       " u'need griev': 508834,\n",
       " u'lunchmeat slice': 461548,\n",
       " u'door downtown': 234774,\n",
       " u'want team': 845811,\n",
       " u'accept reserv': 8606,\n",
       " u'dub thi': 243082,\n",
       " u'piec daili': 571583,\n",
       " u'famili creat': 281358,\n",
       " u'just kitchen': 411409,\n",
       " u'end tenderloin': 256418,\n",
       " u'bainghan bartha': 58984,\n",
       " u'locat 7th': 448802,\n",
       " u'bartend togeth': 64157,\n",
       " u'men knock': 483000,\n",
       " u'charg hate': 133446,\n",
       " u'worth good': 873028,\n",
       " u'anyon beat': 32532,\n",
       " u'alreadi dish': 22412,\n",
       " u'roast stuf': 647767,\n",
       " u'littl clingi': 444903,\n",
       " u'shift dollar': 690737,\n",
       " u'taco harder': 764146,\n",
       " u'fontina prosciutto': 303120,\n",
       " u'steal manag': 738782,\n",
       " u'suckki know': 751916,\n",
       " u'struggl like': 747412,\n",
       " u'valu qualiti': 828552,\n",
       " u'ehh servic': 251237,\n",
       " u'essenc mama': 262964,\n",
       " u'notic turkish': 521414,\n",
       " u'yell late': 878598,\n",
       " u'christown choic': 146864,\n",
       " u'fan yike': 282929,\n",
       " u'like tasti': 440640,\n",
       " u'busi district': 111397,\n",
       " u'night open': 515945,\n",
       " u'authent west': 51244,\n",
       " u'person safeti': 564976,\n",
       " u'day includ': 200565,\n",
       " u'almondin best': 21841,\n",
       " u'gloriou best': 329857,\n",
       " u'pricey insur': 597834,\n",
       " u'come visit': 161862,\n",
       " u'came slightli': 118277,\n",
       " u'went search': 857607,\n",
       " u'chang amelia': 131961,\n",
       " u'small apiari': 707806,\n",
       " u'forward howev': 308037,\n",
       " u'fair wrap': 280377,\n",
       " u'walk howev': 842257,\n",
       " u'cafe locat': 115152,\n",
       " u'reiter shane': 629089,\n",
       " u'buy work': 113910,\n",
       " u'consider stress': 170990,\n",
       " u'complet onc': 166642,\n",
       " u'servic geez': 684823,\n",
       " u'enjoy drive': 257606,\n",
       " u'multipl store': 502491,\n",
       " u'regular excit': 628369,\n",
       " u'cafe local': 115151,\n",
       " u'realli tear': 621043,\n",
       " u'preciou outsid': 592287,\n",
       " u'brother tucson': 103404,\n",
       " u'seat beer': 675819,\n",
       " u'hear stereo': 361265,\n",
       " u'did swing': 217622,\n",
       " u'sell needless': 680282,\n",
       " u'place boyfriend': 575322,\n",
       " u'adult perhap': 14532,\n",
       " u'littl 200': 444585,\n",
       " u'obviou valu': 523958,\n",
       " u'frequent instead': 311018,\n",
       " u'whip cream': 860522,\n",
       " u'wifi babi': 862176,\n",
       " u'silli irreplac': 697978,\n",
       " u'charg realli': 133634,\n",
       " u'walk laugh': 842319,\n",
       " u'disast week': 225218,\n",
       " u'dollar strip': 232648,\n",
       " u'peopl theater': 561170,\n",
       " u'hybrid dive': 384214,\n",
       " u'chaim': 130331,\n",
       " u'chain': 130332,\n",
       " u'veri dissatisfi': 832624,\n",
       " u'choos refri': 145549,\n",
       " u'cloth anywher': 154307,\n",
       " u'hot fisherman': 376302,\n",
       " u'purchas understand': 607897,\n",
       " u'escap anywher': 261835,\n",
       " u'stool annoyingli': 741717,\n",
       " u'chair': 130693,\n",
       " u'zoo larg': 882837,\n",
       " u'chevi good': 139444,\n",
       " u'white better': 860735,\n",
       " u'machu': 462839,\n",
       " u'wait possibl': 840075,\n",
       " u'teehe': 772264,\n",
       " u'simpl relax': 698762,\n",
       " u'think care': 784257,\n",
       " u'good interact': 333274,\n",
       " u'measur forev': 478854,\n",
       " u'away dealership': 53805,\n",
       " u'commun look': 163608,\n",
       " u'pay 000': 557176,\n",
       " u'3rd world': 4280,\n",
       " u'dish havana': 226849,\n",
       " u'excit 5star': 269416,\n",
       " u'macha': 462460,\n",
       " u'affluent procliv': 15684,\n",
       " u'larg': 425327,\n",
       " u'macho': 462835,\n",
       " u'mess won': 485844,\n",
       " u'anyon repli': 32796,\n",
       " u'hotel catch': 376890,\n",
       " u'30pm daughter': 3795,\n",
       " u'bed price': 71922,\n",
       " u'fuller turkey': 317756,\n",
       " u'fog pesticid': 302071,\n",
       " u'dough thi': 236118,\n",
       " u'tab bit': 762459,\n",
       " u'meet sister': 481343,\n",
       " u'run plu': 654646,\n",
       " u'bedroom abl': 72045,\n",
       " u'pictur email': 570889,\n",
       " u'involv detect': 399804,\n",
       " u'nice right': 514333,\n",
       " u'chines restuar': 143146,\n",
       " u'servic flat': 684766,\n",
       " u'111026625881803880071': 791,\n",
       " u'exact': 267668,\n",
       " u'lot surround': 455611,\n",
       " u'beagl australian': 67540,\n",
       " u'time receiv': 791124,\n",
       " u'trendi wine': 807191,\n",
       " u'just watch': 412520,\n",
       " u'ticket invit': 788435,\n",
       " u'unseen deliv': 822224,\n",
       " u'molina thi': 495772,\n",
       " u'welcom guy': 856027,\n",
       " u'presenc expert': 593986,\n",
       " u'checkout free': 136829,\n",
       " u'cordial red': 177090,\n",
       " u'filter auto': 293137,\n",
       " u'fine excess': 294215,\n",
       " u'counter dish': 180421,\n",
       " u'tini nicol': 792255,\n",
       " u'drool creator': 241890,\n",
       " u'block hotel': 88571,\n",
       " u'alway crack': 23518,\n",
       " u'ignor stare': 385903,\n",
       " u'abl wit': 7280,\n",
       " u'thi pane': 781210,\n",
       " u'know london': 420353,\n",
       " u'revolv tast': 642076,\n",
       " u'special diet': 723327,\n",
       " u'continu alien': 172812,\n",
       " u'oven sandwic': 542661,\n",
       " u'thought dure': 786411,\n",
       " u'anywher casual': 33856,\n",
       " u'boar cook': 89819,\n",
       " u'burch': 109199,\n",
       " u'happili pay': 356610,\n",
       " u'men come': 482929,\n",
       " u'tricki honest': 809448,\n",
       " u'cent rang': 128471,\n",
       " u'ass orang': 46021,\n",
       " u'class restaur': 149639,\n",
       " u'flavor teriyaki': 299141,\n",
       " u'mayb caus': 475450,\n",
       " u'asparagu chees': 45700,\n",
       " u'big pick': 82170,\n",
       " u'somebodi answer': 713999,\n",
       " u'lemon cheesecak': 432498,\n",
       " u'unit shutdown': 820731,\n",
       " u'instead veri': 396853,\n",
       " u'crouton appear': 189852,\n",
       " u'apprehens area': 37894,\n",
       " u'kitchen shop': 418332,\n",
       " u'special simpl': 723850,\n",
       " u'closer mayb': 154026,\n",
       " u'cusack': 193951,\n",
       " u'effin kid': 250468,\n",
       " u'charg hope': 133458,\n",
       " u'drop note': 242188,\n",
       " u'social like': 712123,\n",
       " u'semi jokingli': 680572,\n",
       " u'saw steer': 668407,\n",
       " u'hmm appet': 369519,\n",
       " u'better paradis': 80224,\n",
       " u'subway good': 751200,\n",
       " u'meal avail': 476848,\n",
       " u'origin thi': 540016,\n",
       " u'coupon ask': 181799,\n",
       " u'dinner fact': 222435,\n",
       " u'edg fork': 249630,\n",
       " u'mad work': 462999,\n",
       " u'stuck charter': 747539,\n",
       " u'ing moan': 393365,\n",
       " u'yeah don': 877005,\n",
       " u'blooz freekin': 88985,\n",
       " u'pedicur averag': 559112,\n",
       " u'save spend': 667594,\n",
       " u'togeth team': 795481,\n",
       " u'told got': 796099,\n",
       " u'spici lettuc': 726156,\n",
       " u'drink date': 239843,\n",
       " u'sinc valet': 700496,\n",
       " u'got knock': 336355,\n",
       " u'arriv onli': 42254,\n",
       " u'scene commun': 670970,\n",
       " u'aloofli peddl': 22182,\n",
       " u'sever test': 687552,\n",
       " u'alway readili': 24189,\n",
       " u'qualiti churn': 609180,\n",
       " u'corner appet': 177481,\n",
       " u'easi conveni': 246257,\n",
       " u'compani husband': 164096,\n",
       " u'rub tast': 653007,\n",
       " u'learn make': 429758,\n",
       " u'speak length': 722764,\n",
       " u'drive road': 241395,\n",
       " u'lgo doe': 434785,\n",
       " u'complet overcook': 166651,\n",
       " u'lose busi': 453938,\n",
       " u'sandwich 115': 662708,\n",
       " u'starbuck mood': 734897,\n",
       " u'approach anyon': 37931,\n",
       " u'wash cut': 847293,\n",
       " u'suggest remov': 752776,\n",
       " u'locat rude': 449650,\n",
       " ...}"
      ]
     },
     "execution_count": 117,
     "metadata": {},
     "output_type": "execute_result"
    }
   ],
   "source": [
    "bigram_vectoriser.vocabulary_"
   ]
  },
  {
   "cell_type": "code",
   "execution_count": 119,
   "metadata": {
    "collapsed": false
   },
   "outputs": [
    {
     "name": "stdout",
     "output_type": "stream",
     "text": [
      "Accuracy:  0.9245\n",
      "Precision is  0.0  and recall is  0.0  for Food Relevant class\n",
      "Precision is  1.0  and recall is  0.9245  for Food Irrelevant class\n"
     ]
    }
   ],
   "source": [
    "naive_bayes_result = naive_bayes_model(train_bigram_matrix, train_df, test_bigram_matrix, test_df)\n",
    "nb_metrics = naive_bayes_result[0]\n",
    "nb_bigram_model = naive_bayes_result[1]\n",
    "print_metrics(nb_metrics)"
   ]
  },
  {
   "cell_type": "code",
   "execution_count": 120,
   "metadata": {
    "collapsed": false
   },
   "outputs": [
    {
     "name": "stdout",
     "output_type": "stream",
     "text": [
      "Accuracy:  0.91887\n",
      "Precision is  0.0  and recall is  0.0  for Food Relevant class\n",
      "Precision is  1.0  and recall is  0.91887  for Food Irrelevant class\n"
     ]
    }
   ],
   "source": [
    "svm_result = svm_model(train_bigram_matrix, train_df, test_bigram_matrix, test_df)\n",
    "svm_metrics = svm_result[0]\n",
    "svm_bigram_model = svm_result[1]\n",
    "print_metrics(svm_metrics)"
   ]
  },
  {
   "cell_type": "markdown",
   "metadata": {},
   "source": [
    "### In the above model, we are trying to create a model of bigrams using TF-idf score criteria. Although, the accuracy of the model is almost same as the previous model - ~92%, the precision of the model for Food-Relevant data is 0, which is not desirable. Therefore, we need to tinker more with this model to make it usable."
   ]
  },
  {
   "cell_type": "markdown",
   "metadata": {
    "collapsed": true
   },
   "source": [
    "**Other possible changes to improve the model**\n",
    "\n",
    "We can get the food related words from the wordnet database. Use those words in our dataset assigning them more weight, and then train our model.\n",
    "This approach will lead to increase in our precison for food relevant data and also improve accuracy."
   ]
  },
  {
   "cell_type": "markdown",
   "metadata": {},
   "source": [
    "### This analysis is done on the data obtained from Scenario 1 ( 70:30 data split)\n",
    "#### 1) Using chi-squared stats to select the best 10 features"
   ]
  },
  {
   "cell_type": "code",
   "execution_count": 54,
   "metadata": {
    "collapsed": true
   },
   "outputs": [],
   "source": [
    "from sklearn.feature_selection import chi2\n",
    "\n",
    "chi2score = chi2(train_tfidf_matrix, train_df[\"isFoodRelevant\"])[0]"
   ]
  },
  {
   "cell_type": "code",
   "execution_count": 56,
   "metadata": {
    "collapsed": true
   },
   "outputs": [],
   "source": [
    "wscores = zip(tfidf_vectoriser.get_feature_names(), chi2score)\n",
    "top_chi_scores = sorted(wscores, key = lambda score: score[1], reverse = True)"
   ]
  },
  {
   "cell_type": "code",
   "execution_count": 57,
   "metadata": {
    "collapsed": false
   },
   "outputs": [
    {
     "data": {
      "text/plain": [
       "[(u'food', 247.86341695810285),\n",
       " (u'car', 216.43206239117248),\n",
       " (u'zoo', 169.79510114756724),\n",
       " (u'exhibit', 164.57384069662658),\n",
       " (u'dr', 148.92894006448495),\n",
       " (u'hotel', 132.8543048433601),\n",
       " (u'wash', 119.96397070000924),\n",
       " (u'help', 119.54576501584486),\n",
       " (u'chicken', 118.39841654171589),\n",
       " (u'order', 116.36340838169082),\n",
       " (u'store', 113.95327200127554),\n",
       " (u'sandwich', 111.8770453089535),\n",
       " (u'repair', 108.27856431983842),\n",
       " (u'room', 107.85684986666467),\n",
       " (u'salon', 100.55230964550813),\n",
       " (u'lunch', 98.835295490317293),\n",
       " (u'appoint', 95.223255716213444),\n",
       " (u'menu', 95.102257119134464),\n",
       " (u'salad', 94.998212599730721),\n",
       " (u'delici', 93.619434154590948)]"
      ]
     },
     "execution_count": 57,
     "metadata": {},
     "output_type": "execute_result"
    }
   ],
   "source": [
    "top_chi_scores[:20]"
   ]
  },
  {
   "cell_type": "markdown",
   "metadata": {},
   "source": [
    "#### Using chi2 score and tf-idf criteria, the most informative words in the model are food, car, zoo,exhibit, hotel, chicken and other features listed above"
   ]
  },
  {
   "cell_type": "markdown",
   "metadata": {},
   "source": [
    "#### 2) Since the accuracy of SVM is the best among all the 4 classifiers used, we are using SVM coefficients to select the best features"
   ]
  },
  {
   "cell_type": "code",
   "execution_count": 79,
   "metadata": {
    "collapsed": false
   },
   "outputs": [
    {
     "data": {
      "text/plain": [
       "[(u'food', 5.6545514949900513),\n",
       " (u'walgreen', 3.6767937382963067),\n",
       " (u'sandwich', 3.3301366413290108),\n",
       " (u'eat', 3.1690883535734256),\n",
       " (u'costco', 3.1671206421533418),\n",
       " (u'groceri', 3.0855110245009549),\n",
       " (u'dine', 2.9106194049091836),\n",
       " (u'menu', 2.7139483467701049),\n",
       " (u'safeway', 2.5537099282064761),\n",
       " (u'produc', 2.5485950932757082),\n",
       " (u'wine', 2.5149116783688812),\n",
       " (u'order', 2.5099888579838501),\n",
       " (u'waiter', 2.4841887475464883),\n",
       " (u'restaur', 2.3880628110457427),\n",
       " (u'coffe', 2.3761644345899517),\n",
       " (u'starbuck', 2.3058105339204205),\n",
       " (u'chines', 2.2940349501068265),\n",
       " (u'bruschetta', 2.2766494285546086),\n",
       " (u'server', 2.2241605468262517),\n",
       " (u'bakeri', 2.147795214640976)]"
      ]
     },
     "execution_count": 79,
     "metadata": {},
     "output_type": "execute_result"
    }
   ],
   "source": [
    "features_names = tfidf_vectoriser.get_feature_names()\n",
    "feature_scores = zip(features_names, svm_clf.coef_[0])\n",
    "feature_scores_sorted = sorted(feature_scores, key = lambda x: x[1], reverse = True)\n",
    "feature_scores_sorted[:20]"
   ]
  },
  {
   "cell_type": "markdown",
   "metadata": {},
   "source": [
    "#### The top 20 features as given by the SVM are listed above. {food, walgreen, sandwich, eat, costco and others}\n",
    "\n",
    "#### These features look more relevant (food related) as compared to the features obtained by the chi2 criteria"
   ]
  }
 ],
 "metadata": {
  "anaconda-cloud": {},
  "kernelspec": {
   "display_name": "Python [default]",
   "language": "python",
   "name": "python3"
  },
  "language_info": {
   "codemirror_mode": {
    "name": "ipython",
    "version": 3
   },
   "file_extension": ".py",
   "mimetype": "text/x-python",
   "name": "python",
   "nbconvert_exporter": "python",
   "pygments_lexer": "ipython3",
   "version": "3.4.5"
  }
 },
 "nbformat": 4,
 "nbformat_minor": 1
}
